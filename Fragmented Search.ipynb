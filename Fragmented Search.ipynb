{
 "cells": [
  {
   "cell_type": "markdown",
   "metadata": {},
   "source": [
    "Drafting of a solution for querying fragmented entity which data spread through multiple databases"
   ]
  },
  {
   "cell_type": "code",
   "execution_count": 559,
   "metadata": {
    "collapsed": true
   },
   "outputs": [],
   "source": [
    "import rethinkdb as r\n",
    "from rx import Observable\n",
    "from rx.testing import marbles"
   ]
  },
  {
   "cell_type": "code",
   "execution_count": 560,
   "metadata": {
    "collapsed": true
   },
   "outputs": [],
   "source": [
    "from tornado import ioloop, gen\n",
    "from tornado.concurrent import Future, chain_future\n",
    "import functools"
   ]
  },
  {
   "cell_type": "code",
   "execution_count": 561,
   "metadata": {
    "collapsed": false
   },
   "outputs": [],
   "source": [
    "r.set_loop_type('tornado')\n",
    "connection = r.connect(host='localhost', port=28015)"
   ]
  },
  {
   "cell_type": "code",
   "execution_count": 562,
   "metadata": {
    "collapsed": false
   },
   "outputs": [],
   "source": [
    "def rx_query(rql):\n",
    "    \"\"\"\n",
    "    Simple non-blocking query that return an Rx Observable\n",
    "    An appropriate solution would require handle of backpressure and auto batching\n",
    "    \"\"\"\n",
    "    def emitter(observer):\n",
    "        @gen.coroutine\n",
    "        def execute(connection_future):\n",
    "            connection = yield connection_future\n",
    "            try:\n",
    "                result = yield rql.run(connection)\n",
    "                if isinstance(result, r.net.Cursor):\n",
    "                    while (yield result.fetch_next()):\n",
    "                        item = yield result.next()\n",
    "                        observer.on_next(item)\n",
    "                else:\n",
    "                    observer.on_next(result)\n",
    "            except Exception as err:\n",
    "                print(\"Observable emitted error:\", err)\n",
    "                observer.on_error(err)\n",
    "            observer.on_completed()\n",
    "        execute(connection)\n",
    "    return Observable.create(emitter)"
   ]
  },
  {
   "cell_type": "markdown",
   "metadata": {},
   "source": [
    "---"
   ]
  },
  {
   "cell_type": "markdown",
   "metadata": {},
   "source": [
    "### Setup Database (RethinkDB)"
   ]
  },
  {
   "cell_type": "code",
   "execution_count": 558,
   "metadata": {
    "collapsed": false
   },
   "outputs": [
    {
     "data": {
      "text/plain": [
       "<map at 0x112de4cf8>"
      ]
     },
     "execution_count": 558,
     "metadata": {},
     "output_type": "execute_result"
    }
   ],
   "source": [
    "map(lambda rql: rx_query(rql).subscribe(), [\n",
    "        r.db_create('a').run(),\n",
    "        r.db_create('b').run(),\n",
    "        r.db('a').table_create('person_a').run(),\n",
    "        r.db('b').table_create('person_b').run()\n",
    "    ])"
   ]
  },
  {
   "cell_type": "raw",
   "metadata": {},
   "source": [
    "# In case databases was created already\n",
    "rx_query(r.db_drop('a')).subscribe()\n",
    "rx_query(r.db_drop('b')).subscribe()"
   ]
  },
  {
   "cell_type": "code",
   "execution_count": 566,
   "metadata": {
    "collapsed": false
   },
   "outputs": [],
   "source": [
    "import random, string, uuid, itertools\n",
    "\n",
    "def random_persons():\n",
    "    while True:\n",
    "        yield {\n",
    "            'id': str(uuid.uuid4()),\n",
    "            'name': random.choice(string.ascii_letters),\n",
    "            'age': random.randint(1,100)\n",
    "        }\n",
    "\n",
    "def split(person):\n",
    "    return ({\n",
    "        'id': person['id'],\n",
    "        'name': person['name']            \n",
    "    }, {\n",
    "        'id': person['id'],\n",
    "        'age': person['age']\n",
    "    })"
   ]
  },
  {
   "cell_type": "code",
   "execution_count": 569,
   "metadata": {
    "collapsed": false
   },
   "outputs": [
    {
     "data": {
      "text/plain": [
       "<rx.disposables.anonymousdisposable.AnonymousDisposable at 0x111cf42e8>"
      ]
     },
     "execution_count": 569,
     "metadata": {},
     "output_type": "execute_result"
    }
   ],
   "source": [
    "def insert_batch(persons):\n",
    "    return Observable.zip(\n",
    "        rx_query(source_a.insert([split(p)[0] for p in persons])),\n",
    "        rx_query(source_b.insert([split(p)[1] for p in persons])),\n",
    "        lambda a, b: (a, b))\n",
    "\n",
    "(Observable\n",
    "    .from_iterable(random_persons())\n",
    "    .take(10000) \n",
    "    .buffer_with_count(100)\n",
    "    .flat_map(lambda person_batch: insert_batch(person_batch))\n",
    ").subscribe()\n"
   ]
  },
  {
   "cell_type": "markdown",
   "metadata": {},
   "source": [
    "Simple DSL for crafting search's criteria"
   ]
  },
  {
   "cell_type": "code",
   "execution_count": 571,
   "metadata": {
    "collapsed": false
   },
   "outputs": [
    {
     "data": {
      "text/plain": [
       "{'_filter': {'_subs': [{'_key': 'name', '_type': 'atom', '_val': 'Huy'},\n",
       "           {'_key': 'age', '_type': 'atom', '_val': 1}],\n",
       " '_type': 'compound'},\n",
       " '_order': ['name', 'age']}"
      ]
     },
     "execution_count": 571,
     "metadata": {},
     "output_type": "execute_result"
    }
   ],
   "source": [
    "class Predicate:\n",
    "    def __init__(self, raw):\n",
    "        assert len(raw.keys()) == 1\n",
    "        key = list(raw.keys())[0]\n",
    "        val = raw[key]\n",
    "        if key == 'or' or key == 'and':\n",
    "            self._type = 'compound'\n",
    "            self._subs = [*map(Predicate, [{k: val[k]} for k in val.keys()])]\n",
    "        else:\n",
    "            self._type = 'atom'\n",
    "            self._key = key\n",
    "            self._val = raw[key]\n",
    "    @property\n",
    "    def type(self):\n",
    "        return self._type\n",
    "    @property\n",
    "    def key(self):\n",
    "        if self._type == 'compound': raise Exception(\"Can't take key from compound expression\")\n",
    "        return self._key\n",
    "    @property\n",
    "    def val(self):\n",
    "        if self._type == 'compound': raise Exception(\"Can't take val from compound expression\")\n",
    "        return self._val\n",
    "    def __repr__(self):\n",
    "        return pprint.pformat(self.__dict__)\n",
    "\n",
    "    \n",
    "class Expr:\n",
    "    def __init__(self, expr):\n",
    "        self._filter = Predicate(expr['filter'])\n",
    "        self._order = expr['order']\n",
    "    def is_empty(self):\n",
    "        return not self._filter and not self._order\n",
    "    @property\n",
    "    def filter(self):\n",
    "        if not self._filter: return None\n",
    "        return self._filter\n",
    "    @property\n",
    "    def order(self):\n",
    "        if not self._order: return None\n",
    "        return self._order\n",
    "    @property\n",
    "    def subs(self):\n",
    "        return self._subs\n",
    "    def __repr__(self):\n",
    "        return pprint.pformat(self.__dict__)\n",
    "    \n",
    "Expr({\n",
    "    'filter': {\n",
    "        'or': {\n",
    "            'name': 'Huy',\n",
    "            'age': 1\n",
    "        }\n",
    "    },\n",
    "    'order': ['name', 'age']\n",
    "})"
   ]
  },
  {
   "cell_type": "code",
   "execution_count": 549,
   "metadata": {
    "collapsed": true
   },
   "outputs": [],
   "source": [
    "def field_name_to_source(name):\n",
    "    return {\n",
    "        'name': source_a,\n",
    "        'age': source_b\n",
    "    }[name]"
   ]
  },
  {
   "cell_type": "code",
   "execution_count": 572,
   "metadata": {
    "collapsed": false
   },
   "outputs": [
    {
     "ename": "TypeError",
     "evalue": "step() missing 1 required positional argument: 'ordered_ids'",
     "output_type": "error",
     "traceback": [
      "\u001b[0;31m\u001b[0m",
      "\u001b[0;31mTypeError\u001b[0mTraceback (most recent call last)",
      "\u001b[0;32m<ipython-input-572-d7513368c581>\u001b[0m in \u001b[0;36m<module>\u001b[0;34m()\u001b[0m\n\u001b[1;32m     28\u001b[0m         rx_query(query).map(lambda entry: entry['id']))\n\u001b[1;32m     29\u001b[0m \u001b[0;34m\u001b[0m\u001b[0m\n\u001b[0;32m---> 30\u001b[0;31m \u001b[0mstep\u001b[0m\u001b[0;34m(\u001b[0m\u001b[0;32mNone\u001b[0m\u001b[0;34m)\u001b[0m\u001b[0;34m\u001b[0m\u001b[0m\n\u001b[0m",
      "\u001b[0;31mTypeError\u001b[0m: step() missing 1 required positional argument: 'ordered_ids'"
     ]
    }
   ],
   "source": [
    "expr = Expr({\n",
    "    'filter': {\n",
    "        'name': 'Huy'\n",
    "    },\n",
    "    'order': ['name', 'age']\n",
    "})\n",
    "\n",
    "# TODO:\n",
    "def step(observable, ordered_ids):\n",
    "    \"\"\"Iteratively reduce the query Expr to a single Observable\"\"\"\n",
    "    if observable: raise Exception(\"Unimplemented\")\n",
    "    if (expr.is_empty()):\n",
    "        return streamed['observable']\n",
    "    else:\n",
    "        if not expr.filter and expr.order: raise Exception('handle later')\n",
    "        if expr.filter:\n",
    "            if expr.filter.type == 'compound':\n",
    "                fst_key = liste(expr.filter.subs.keys())[0]\n",
    "                sub_pred = expr.filter.subs[0]\n",
    "                query = field_name_to_source(fst_key).filter({sub_pred.key: sub_pred.val})\n",
    "                del expr.filter.subs[0]\n",
    "            else:\n",
    "                query = field_name_to_source(expr.filter.key).filter({expr.filter.key: expr.filter.val})\n",
    "        if expr.order:\n",
    "            query = query.order_by(expr.order[0])\n",
    "    print('Crafted a query')\n",
    "    return step(\n",
    "        rx_query(query),\n",
    "        # TODO: cache\n",
    "        rx_query(query).map(lambda entry: entry['id']))\n",
    "\n",
    "step(None)"
   ]
  }
 ],
 "metadata": {
  "kernelspec": {
   "display_name": "Python 3",
   "language": "python",
   "name": "python3"
  },
  "language_info": {
   "codemirror_mode": {
    "name": "ipython",
    "version": 3
   },
   "file_extension": ".py",
   "mimetype": "text/x-python",
   "name": "python",
   "nbconvert_exporter": "python",
   "pygments_lexer": "ipython3",
   "version": "3.6.0"
  }
 },
 "nbformat": 4,
 "nbformat_minor": 2
}
